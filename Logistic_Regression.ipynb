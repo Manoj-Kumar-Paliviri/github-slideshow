{
  "nbformat": 4,
  "nbformat_minor": 0,
  "metadata": {
    "colab": {
      "name": "Logistic Regression.ipynb",
      "provenance": [],
      "collapsed_sections": [],
      "mount_file_id": "1i0acZPwb-HzQGX6Epju0Na_FDvBSAhif",
      "authorship_tag": "ABX9TyNafJRa0lUZMrOg2cFI+T6n",
      "include_colab_link": true
    },
    "kernelspec": {
      "name": "python3",
      "display_name": "Python 3"
    },
    "language_info": {
      "name": "python"
    }
  },
  "cells": [
    {
      "cell_type": "markdown",
      "metadata": {
        "id": "view-in-github",
        "colab_type": "text"
      },
      "source": [
        "<a href=\"https://colab.research.google.com/github/Manoj-Kumar-Paliviri/github-slideshow/blob/master/Logistic_Regression.ipynb\" target=\"_parent\"><img src=\"https://colab.research.google.com/assets/colab-badge.svg\" alt=\"Open In Colab\"/></a>"
      ]
    },
    {
      "cell_type": "code",
      "metadata": {
        "colab": {
          "base_uri": "https://localhost:8080/",
          "height": 198
        },
        "id": "GMK8MJB53YHf",
        "outputId": "74c4318f-2550-42b0-8607-3304c2da694a"
      },
      "source": [
        "import pandas as pd\n",
        "df=pd.read_csv('/content/drive/MyDrive/PYTHON-APRIL/Machine Learning/Data Sets/Social_Network_Ads.csv')\n",
        "df.head()"
      ],
      "execution_count": 2,
      "outputs": [
        {
          "output_type": "execute_result",
          "data": {
            "text/html": [
              "<div>\n",
              "<style scoped>\n",
              "    .dataframe tbody tr th:only-of-type {\n",
              "        vertical-align: middle;\n",
              "    }\n",
              "\n",
              "    .dataframe tbody tr th {\n",
              "        vertical-align: top;\n",
              "    }\n",
              "\n",
              "    .dataframe thead th {\n",
              "        text-align: right;\n",
              "    }\n",
              "</style>\n",
              "<table border=\"1\" class=\"dataframe\">\n",
              "  <thead>\n",
              "    <tr style=\"text-align: right;\">\n",
              "      <th></th>\n",
              "      <th>User ID</th>\n",
              "      <th>Gender</th>\n",
              "      <th>Age</th>\n",
              "      <th>EstimatedSalary</th>\n",
              "      <th>Purchased</th>\n",
              "    </tr>\n",
              "  </thead>\n",
              "  <tbody>\n",
              "    <tr>\n",
              "      <th>0</th>\n",
              "      <td>15624510</td>\n",
              "      <td>Male</td>\n",
              "      <td>19</td>\n",
              "      <td>19000</td>\n",
              "      <td>0</td>\n",
              "    </tr>\n",
              "    <tr>\n",
              "      <th>1</th>\n",
              "      <td>15810944</td>\n",
              "      <td>Male</td>\n",
              "      <td>35</td>\n",
              "      <td>20000</td>\n",
              "      <td>0</td>\n",
              "    </tr>\n",
              "    <tr>\n",
              "      <th>2</th>\n",
              "      <td>15668575</td>\n",
              "      <td>Female</td>\n",
              "      <td>26</td>\n",
              "      <td>43000</td>\n",
              "      <td>0</td>\n",
              "    </tr>\n",
              "    <tr>\n",
              "      <th>3</th>\n",
              "      <td>15603246</td>\n",
              "      <td>Female</td>\n",
              "      <td>27</td>\n",
              "      <td>57000</td>\n",
              "      <td>0</td>\n",
              "    </tr>\n",
              "    <tr>\n",
              "      <th>4</th>\n",
              "      <td>15804002</td>\n",
              "      <td>Male</td>\n",
              "      <td>19</td>\n",
              "      <td>76000</td>\n",
              "      <td>0</td>\n",
              "    </tr>\n",
              "  </tbody>\n",
              "</table>\n",
              "</div>"
            ],
            "text/plain": [
              "    User ID  Gender  Age  EstimatedSalary  Purchased\n",
              "0  15624510    Male   19            19000          0\n",
              "1  15810944    Male   35            20000          0\n",
              "2  15668575  Female   26            43000          0\n",
              "3  15603246  Female   27            57000          0\n",
              "4  15804002    Male   19            76000          0"
            ]
          },
          "metadata": {
            "tags": []
          },
          "execution_count": 2
        }
      ]
    },
    {
      "cell_type": "code",
      "metadata": {
        "colab": {
          "base_uri": "https://localhost:8080/"
        },
        "id": "ytNHq2m23uEM",
        "outputId": "1ee237ee-1307-40e7-d587-1693f1540902"
      },
      "source": [
        "df.shape"
      ],
      "execution_count": 3,
      "outputs": [
        {
          "output_type": "execute_result",
          "data": {
            "text/plain": [
              "(400, 5)"
            ]
          },
          "metadata": {
            "tags": []
          },
          "execution_count": 3
        }
      ]
    },
    {
      "cell_type": "code",
      "metadata": {
        "colab": {
          "base_uri": "https://localhost:8080/"
        },
        "id": "VAin14xZ3yBw",
        "outputId": "68d54dd5-dff7-40d8-ea84-59687fe625dd"
      },
      "source": [
        "#output :purchased\n",
        "#input: Age and estimated salary\n",
        "df.nunique()"
      ],
      "execution_count": 4,
      "outputs": [
        {
          "output_type": "execute_result",
          "data": {
            "text/plain": [
              "User ID            400\n",
              "Gender               2\n",
              "Age                 43\n",
              "EstimatedSalary    117\n",
              "Purchased            2\n",
              "dtype: int64"
            ]
          },
          "metadata": {
            "tags": []
          },
          "execution_count": 4
        }
      ]
    },
    {
      "cell_type": "code",
      "metadata": {
        "id": "U7VzkJoH4APJ"
      },
      "source": [
        "x=df.iloc[:,[2,3]].values\n",
        "y=df.iloc[:,4].values"
      ],
      "execution_count": 5,
      "outputs": []
    },
    {
      "cell_type": "code",
      "metadata": {
        "colab": {
          "base_uri": "https://localhost:8080/"
        },
        "id": "vyEnKJfx4SbR",
        "outputId": "a61bc035-f659-4fb8-9ece-366c894a7f5e"
      },
      "source": [
        "#How many people purchased?\n",
        "#Method 1\n",
        "df['Purchased'].value_counts()"
      ],
      "execution_count": 6,
      "outputs": [
        {
          "output_type": "execute_result",
          "data": {
            "text/plain": [
              "0    257\n",
              "1    143\n",
              "Name: Purchased, dtype: int64"
            ]
          },
          "metadata": {
            "tags": []
          },
          "execution_count": 6
        }
      ]
    },
    {
      "cell_type": "code",
      "metadata": {
        "colab": {
          "base_uri": "https://localhost:8080/",
          "height": 279
        },
        "id": "DWU4G1IP5MPw",
        "outputId": "0ed61b11-767b-4618-de8e-0d948de8395b"
      },
      "source": [
        "df['Purchased'].value_counts().plot(kind='bar')"
      ],
      "execution_count": 7,
      "outputs": [
        {
          "output_type": "execute_result",
          "data": {
            "text/plain": [
              "<matplotlib.axes._subplots.AxesSubplot at 0x7f51a2510d50>"
            ]
          },
          "metadata": {
            "tags": []
          },
          "execution_count": 7
        },
        {
          "output_type": "display_data",
          "data": {
            "image/png": "[encoded data removed]",
            "text/plain": [
              "<Figure size 432x288 with 1 Axes>"
            ]
          },
          "metadata": {
            "tags": [],
            "needs_background": "light"
          }
        }
      ]
    },
    {
      "cell_type": "code",
      "metadata": {
        "colab": {
          "base_uri": "https://localhost:8080/"
        },
        "id": "cOQKfWRx4yMH",
        "outputId": "c62dadf7-2b73-4b44-fb54-7e8a16f6421b"
      },
      "source": [
        "#Method 2:\n",
        "p=df['Purchased'].values\n",
        "import numpy as np\n",
        "np.unique(p,return_counts=True)"
      ],
      "execution_count": 8,
      "outputs": [
        {
          "output_type": "execute_result",
          "data": {
            "text/plain": [
              "(array([0, 1]), array([257, 143]))"
            ]
          },
          "metadata": {
            "tags": []
          },
          "execution_count": 8
        }
      ]
    },
    {
      "cell_type": "code",
      "metadata": {
        "id": "lzMM2ZSL46lZ"
      },
      "source": [
        "#splitting the data\n",
        "from sklearn.model_selection import train_test_split\n",
        "x_train,x_test,y_train,y_test=train_test_split(x,y,random_state=0)        #test_size=0.25"
      ],
      "execution_count": 9,
      "outputs": []
    },
    {
      "cell_type": "code",
      "metadata": {
        "colab": {
          "base_uri": "https://localhost:8080/"
        },
        "id": "wMGSo3sQ50Rf",
        "outputId": "0156cec8-20ab-449f-a663-4d711f8e262a"
      },
      "source": [
        "print(x_train.shape)\n",
        "print(x_test.shape)"
      ],
      "execution_count": 10,
      "outputs": [
        {
          "output_type": "stream",
          "text": [
            "(300, 2)\n",
            "(100, 2)\n"
          ],
          "name": "stdout"
        }
      ]
    },
    {
      "cell_type": "code",
      "metadata": {
        "id": "MybXLNEw7E8l"
      },
      "source": [
        "#Normalization : Bringing value in a scale of 0-1\n",
        "from sklearn.preprocessing import MinMaxScaler\n",
        "scaler=MinMaxScaler()\n",
        "x_train=scaler.fit_transform(x_train)\n",
        "x_test=scaler.transform(x_test)"
      ],
      "execution_count": 11,
      "outputs": []
    },
    {
      "cell_type": "code",
      "metadata": {
        "colab": {
          "base_uri": "https://localhost:8080/"
        },
        "id": "Bc1jK8mx52RD",
        "outputId": "df6deb5c-6129-4c64-b318-331e82f51546"
      },
      "source": [
        "from sklearn.linear_model import LogisticRegression\n",
        "model=LogisticRegression()\n",
        "model.fit(x_train,y_train)\n",
        "y_pred=model.predict(x_test)\n",
        "y_pred"
      ],
      "execution_count": 12,
      "outputs": [
        {
          "output_type": "execute_result",
          "data": {
            "text/plain": [
              "array([0, 0, 0, 0, 0, 0, 0, 1, 0, 0, 0, 0, 0, 0, 0, 0, 0, 0, 1, 0, 0, 1,\n",
              "       0, 1, 0, 1, 0, 0, 0, 0, 0, 0, 1, 0, 0, 0, 0, 0, 0, 0, 0, 0, 0, 0,\n",
              "       1, 0, 0, 1, 0, 1, 1, 0, 0, 0, 1, 0, 0, 0, 0, 0, 0, 1, 0, 0, 0, 1,\n",
              "       0, 0, 0, 0, 1, 0, 0, 0, 0, 0, 0, 0, 1, 1, 1, 1, 0, 0, 1, 0, 0, 1,\n",
              "       0, 0, 0, 1, 0, 0, 0, 0, 0, 0, 1, 1])"
            ]
          },
          "metadata": {
            "tags": []
          },
          "execution_count": 12
        }
      ]
    },
    {
      "cell_type": "code",
      "metadata": {
        "colab": {
          "base_uri": "https://localhost:8080/"
        },
        "id": "I3zJG1kk69I7",
        "outputId": "edd746b2-54a7-4fa3-bb10-3b41924a9186"
      },
      "source": [
        "y_test"
      ],
      "execution_count": 13,
      "outputs": [
        {
          "output_type": "execute_result",
          "data": {
            "text/plain": [
              "array([0, 0, 0, 0, 0, 0, 0, 1, 0, 0, 0, 0, 0, 0, 0, 0, 0, 0, 1, 0, 0, 1,\n",
              "       0, 1, 0, 1, 0, 0, 0, 0, 0, 1, 1, 0, 0, 0, 0, 0, 0, 1, 0, 0, 0, 0,\n",
              "       1, 0, 0, 1, 0, 1, 1, 0, 0, 0, 1, 1, 0, 0, 1, 0, 0, 1, 0, 1, 0, 1,\n",
              "       0, 0, 0, 0, 1, 0, 0, 1, 0, 0, 0, 0, 1, 1, 1, 0, 0, 0, 1, 1, 0, 1,\n",
              "       1, 0, 0, 1, 0, 0, 0, 1, 0, 1, 1, 1])"
            ]
          },
          "metadata": {
            "tags": []
          },
          "execution_count": 13
        }
      ]
    },
    {
      "cell_type": "code",
      "metadata": {
        "id": "G1Z2BTV47C21"
      },
      "source": [
        "# Logistic Regression\n",
        "# Maths\n",
        "# 1. Input and Output\n",
        "# 2. Apply fit method (Optmizer runs)\n",
        "# Output will be the coefficients and intercepts\n",
        "# y = m1x1+m2x2+c\n",
        "# 3. Sigmoid Function to get probabilities\n",
        "# 4. take max index op"
      ],
      "execution_count": 14,
      "outputs": []
    },
    {
      "cell_type": "code",
      "metadata": {
        "colab": {
          "base_uri": "https://localhost:8080/"
        },
        "id": "RuF8KREt9Cy2",
        "outputId": "e7412af9-12f0-4aab-d11b-ff243e138738"
      },
      "source": [
        "#Step 2:\n",
        "model.coef_"
      ],
      "execution_count": 15,
      "outputs": [
        {
          "output_type": "execute_result",
          "data": {
            "text/plain": [
              "array([[4.89232634, 2.53768971]])"
            ]
          },
          "metadata": {
            "tags": []
          },
          "execution_count": 15
        }
      ]
    },
    {
      "cell_type": "code",
      "metadata": {
        "colab": {
          "base_uri": "https://localhost:8080/"
        },
        "id": "mw-1-cbQ9fp-",
        "outputId": "58917b4a-37a8-4b64-fa45-b524c2a86458"
      },
      "source": [
        "model.coef_[0][0]"
      ],
      "execution_count": 16,
      "outputs": [
        {
          "output_type": "execute_result",
          "data": {
            "text/plain": [
              "4.892326339054485"
            ]
          },
          "metadata": {
            "tags": []
          },
          "execution_count": 16
        }
      ]
    },
    {
      "cell_type": "code",
      "metadata": {
        "colab": {
          "base_uri": "https://localhost:8080/"
        },
        "id": "u7PfXPrL9G0p",
        "outputId": "54f48fd4-4ef9-4568-95c2-42054b38e909"
      },
      "source": [
        "model.intercept_"
      ],
      "execution_count": 17,
      "outputs": [
        {
          "output_type": "execute_result",
          "data": {
            "text/plain": [
              "array([-4.08983426])"
            ]
          },
          "metadata": {
            "tags": []
          },
          "execution_count": 17
        }
      ]
    },
    {
      "cell_type": "code",
      "metadata": {
        "id": "hgJaWDsr9JQ0"
      },
      "source": [
        "import math\n",
        "def sigmoid(x):\n",
        "  return 1/(1+math.exp(-x))"
      ],
      "execution_count": 18,
      "outputs": []
    },
    {
      "cell_type": "code",
      "metadata": {
        "id": "shXWCt_G9nIw"
      },
      "source": [
        "def prediction(age,sal):\n",
        "  m1=model.coef_[0][0]\n",
        "  m2=model.coef_[0][1]\n",
        "  c=model.intercept_[0]\n",
        "  return sigmoid( (m1*age) + (m2*sal) + c)"
      ],
      "execution_count": 19,
      "outputs": []
    },
    {
      "cell_type": "code",
      "metadata": {
        "colab": {
          "base_uri": "https://localhost:8080/"
        },
        "id": "PXinT7hi-p8k",
        "outputId": "cf6606d7-370e-4112-8159-8295ad1e7415"
      },
      "source": [
        "age=x_test[0][0]\n",
        "sal=x_test[0][1]\n",
        "prediction(age,sal)"
      ],
      "execution_count": 20,
      "outputs": [
        {
          "output_type": "execute_result",
          "data": {
            "text/plain": [
              "0.2077416625552371"
            ]
          },
          "metadata": {
            "tags": []
          },
          "execution_count": 20
        }
      ]
    },
    {
      "cell_type": "code",
      "metadata": {
        "colab": {
          "base_uri": "https://localhost:8080/"
        },
        "id": "039QE763-azV",
        "outputId": "ef7072e3-df48-4269-94d0-ad630b047d8d"
      },
      "source": [
        "age=x_test[-1][0]\n",
        "sal=x_test[-1][1]\n",
        "prediction(age,sal)"
      ],
      "execution_count": 21,
      "outputs": [
        {
          "output_type": "execute_result",
          "data": {
            "text/plain": [
              "0.593577910580032"
            ]
          },
          "metadata": {
            "tags": []
          },
          "execution_count": 21
        }
      ]
    },
    {
      "cell_type": "code",
      "metadata": {
        "id": "ufC4wpVQ-nUL",
        "colab": {
          "base_uri": "https://localhost:8080/"
        },
        "outputId": "d99631ca-a561-48c2-feae-c712b85672c2"
      },
      "source": [
        "# Assignment : Write a code to find probabilities of all the values and store it in a list\n",
        "list=[]\n",
        "import math\n",
        "def sigmoid(x):\n",
        "  return 1/(1+math.exp(-x))\n",
        "def prediction(age,sal):\n",
        "  m1=model.coef_[0][0]\n",
        "  m2=model.coef_[0][1]\n",
        "  c=model.intercept_[0]\n",
        "  return sigmoid( (m1*age) + (m2*sal) + c)\n",
        "for i in range(len(x_test)):\n",
        "  for j in range(1):\n",
        "    age=x_test[i][j]\n",
        "    sal=x_test[i][j+1]\n",
        "    list.append(prediction(age,sal))\n",
        "    i+=1\n",
        "    j+=1\n",
        "print(list)\n",
        "print(len(list))"
      ],
      "execution_count": 22,
      "outputs": [
        {
          "output_type": "stream",
          "text": [
            "[0.2077416625552371, 0.249321264526965, 0.2725457070014823, 0.1840757993364383, 0.18974201312582945, 0.049855270364473486, 0.07072912912845453, 0.6062987618200942, 0.04337384446250629, 0.4537665076356603, 0.11375918831126809, 0.10219349084905953, 0.24513479630106239, 0.38267404796932036, 0.07431442633528018, 0.3677937760036568, 0.32933782148499163, 0.06552756782402334, 0.9154295083051797, 0.12152974313680233, 0.181223440155359, 0.8472384660273559, 0.32432065681432876, 0.7271069729566202, 0.036860976074612965, 0.8687189156699655, 0.17199409483212752, 0.16985431752228167, 0.27029092738912674, 0.24519196911348612, 0.08563387192985479, 0.3376943163332661, 0.7856559887507414, 0.23824483226297818, 0.07026476890220933, 0.03247347305768771, 0.08445890903972532, 0.15449723399529133, 0.09811148846345975, 0.47899243686008675, 0.1585246789809351, 0.3284534506900845, 0.1487502033155478, 0.11757281610477316, 0.656027681876165, 0.09681045462436261, 0.34191129303803, 0.7825260285138452, 0.053352949952630846, 0.7017835222981166, 0.9216077236489478, 0.11525892891985909, 0.21080108014665583, 0.41427491618496565, 0.886777614179008, 0.3485982654612781, 0.17795462561672845, 0.12607561896541655, 0.4416517089438864, 0.03187849531043777, 0.08296964886044907, 0.7875181798911204, 0.05589879723467643, 0.3979255837327685, 0.02260818549699225, 0.8890166511737627, 0.11921336076137795, 0.09681045462436261, 0.28380589757580266, 0.4352787485889005, 0.5196476017314469, 0.2800629386925813, 0.06171025104926622, 0.307212544764009, 0.16104831574295492, 0.05570397181557604, 0.47722419547759903, 0.3359733243227381, 0.5852251224001134, 0.7345027265685841, 0.9523217512087362, 0.8769923613026882, 0.06666883805504682, 0.05830417903857583, 0.7314263387812305, 0.48191574024642614, 0.4014745182408031, 0.9452019395433351, 0.41592046194069887, 0.362436036892079, 0.4077844781078023, 0.6424146497410591, 0.05279543755123893, 0.05039816998539814, 0.10969218976122594, 0.17962874581129953, 0.06880932553202679, 0.436111936977543, 0.6930701862722611, 0.593577910580032]\n",
            "100\n"
          ],
          "name": "stdout"
        }
      ]
    },
    {
      "cell_type": "code",
      "metadata": {
        "id": "bW-z4RUagr9D",
        "colab": {
          "base_uri": "https://localhost:8080/"
        },
        "outputId": "e11d653d-348a-4e43-b675-4c11e19dd16b"
      },
      "source": [
        "# Evaluation : Accuracy, Precision/Recall\n",
        "# Confusion Matrix\n",
        "\n",
        "print(np.unique(y_pred,return_counts=True))\n",
        "print(np.unique(y_test,return_counts=True))"
      ],
      "execution_count": 24,
      "outputs": [
        {
          "output_type": "stream",
          "text": [
            "(array([0, 1]), array([77, 23]))\n",
            "(array([0, 1]), array([68, 32]))\n"
          ],
          "name": "stdout"
        }
      ]
    },
    {
      "cell_type": "code",
      "metadata": {
        "id": "bzcgjZWdfuM8"
      },
      "source": [
        "from sklearn.metrics import confusion_matrix,accuracy_score,classification_report"
      ],
      "execution_count": 25,
      "outputs": []
    },
    {
      "cell_type": "code",
      "metadata": {
        "colab": {
          "base_uri": "https://localhost:8080/"
        },
        "id": "IaH4cI_ChULp",
        "outputId": "d5f427b1-d5dc-400f-df31-15b24ebcddae"
      },
      "source": [
        "confusion_matrix(y_pred,y_test)"
      ],
      "execution_count": 26,
      "outputs": [
        {
          "output_type": "execute_result",
          "data": {
            "text/plain": [
              "array([[67, 10],\n",
              "       [ 1, 22]])"
            ]
          },
          "metadata": {
            "tags": []
          },
          "execution_count": 26
        }
      ]
    },
    {
      "cell_type": "code",
      "metadata": {
        "id": "9LU_JIjqhYFz"
      },
      "source": [
        "# 67-True negative\n",
        "# 1-False negative\n",
        "# 10 -False positive\n",
        "# 22 -True positive"
      ],
      "execution_count": null,
      "outputs": []
    },
    {
      "cell_type": "code",
      "metadata": {
        "colab": {
          "base_uri": "https://localhost:8080/"
        },
        "id": "e8QxDGjXjea9",
        "outputId": "0ff3a7f7-b114-4ab1-8b9e-ba9112d98169"
      },
      "source": [
        "#Accuracy = (sum of true values)/total sum\n",
        "(67+22)/(67+10+1+22)"
      ],
      "execution_count": 27,
      "outputs": [
        {
          "output_type": "execute_result",
          "data": {
            "text/plain": [
              "0.89"
            ]
          },
          "metadata": {
            "tags": []
          },
          "execution_count": 27
        }
      ]
    },
    {
      "cell_type": "code",
      "metadata": {
        "colab": {
          "base_uri": "https://localhost:8080/"
        },
        "id": "OwuwDfTajySD",
        "outputId": "07776272-cfe5-42ba-a6c7-e3d3eba513de"
      },
      "source": [
        "accuracy_score(y_pred,y_test)"
      ],
      "execution_count": 28,
      "outputs": [
        {
          "output_type": "execute_result",
          "data": {
            "text/plain": [
              "0.89"
            ]
          },
          "metadata": {
            "tags": []
          },
          "execution_count": 28
        }
      ]
    },
    {
      "cell_type": "markdown",
      "metadata": {
        "id": "LcvMiVWwkRjg"
      },
      "source": [
        "![download.png](data:image/png;base64,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)"
      ]
    },
    {
      "cell_type": "code",
      "metadata": {
        "colab": {
          "base_uri": "https://localhost:8080/"
        },
        "id": "LHYBpKNSm5f5",
        "outputId": "eda09deb-d3ed-4c7a-eee6-e8bb53156b06"
      },
      "source": [
        "confusion_matrix(y_pred,y_test)"
      ],
      "execution_count": 29,
      "outputs": [
        {
          "output_type": "execute_result",
          "data": {
            "text/plain": [
              "array([[67, 10],\n",
              "       [ 1, 22]])"
            ]
          },
          "metadata": {
            "tags": []
          },
          "execution_count": 29
        }
      ]
    },
    {
      "cell_type": "code",
      "metadata": {
        "colab": {
          "base_uri": "https://localhost:8080/"
        },
        "id": "TwqY9mfOkX0Q",
        "outputId": "26b4b132-22a6-426d-a3b9-7d1e854a4fce"
      },
      "source": [
        "#Assignment : Find Precision and recall of 0 and 1 wrt the above formula(Maths)\n",
        "\n",
        "p1=(22)/(22+67)         #1 - Precision\n",
        "p2=(67)/(67+1)          #0 - Precision\n",
        "r1=(22)/(1+22)          #1 - Recall\n",
        "r2=(10)/(10+67)         #0 - Recall\n",
        "print(f'1 - Precision={p1}\\t0 - Precision={p2}')   \n",
        "print(f'1 - Recall={r1}\\t0 - Recall={r2}')   "
      ],
      "execution_count": 43,
      "outputs": [
        {
          "output_type": "stream",
          "text": [
            "1 - Precision=0.24719101123595505\t0 - Precision=0.9852941176470589\n",
            "1 - Recall=0.9565217391304348\t0 - Recall=0.12987012987012986\n"
          ],
          "name": "stdout"
        }
      ]
    },
    {
      "cell_type": "code",
      "metadata": {
        "colab": {
          "base_uri": "https://localhost:8080/"
        },
        "id": "eR7_MIScnRO4",
        "outputId": "ccc66793-fe2b-46c8-cac5-13af17f830c3"
      },
      "source": [
        "#classification report gives precision,recall,and f1-score between predicted and tested value\n",
        "print(classification_report(y_pred,y_test))"
      ],
      "execution_count": 34,
      "outputs": [
        {
          "output_type": "stream",
          "text": [
            "              precision    recall  f1-score   support\n",
            "\n",
            "           0       0.99      0.87      0.92        77\n",
            "           1       0.69      0.96      0.80        23\n",
            "\n",
            "    accuracy                           0.89       100\n",
            "   macro avg       0.84      0.91      0.86       100\n",
            "weighted avg       0.92      0.89      0.90       100\n",
            "\n"
          ],
          "name": "stdout"
        }
      ]
    },
    {
      "cell_type": "code",
      "metadata": {
        "id": "lo88H99GorqK"
      },
      "source": [
        "#When data is balanced accuracy is considered\n",
        "#When data is imbalanced precision/recall is considered"
      ],
      "execution_count": null,
      "outputs": []
    }
  ]
}